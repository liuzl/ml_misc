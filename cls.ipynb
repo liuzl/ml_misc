{
 "cells": [
  {
   "cell_type": "code",
   "execution_count": 1,
   "metadata": {},
   "outputs": [
    {
     "name": "stderr",
     "output_type": "stream",
     "text": [
      "Paddle enabled successfully......\n"
     ]
    }
   ],
   "source": [
    "import pandas as pd\n",
    "from sklearn.feature_extraction.text import CountVectorizer\n",
    "from sklearn.model_selection import train_test_split\n",
    "from sklearn import metrics\n",
    "import scipy\n",
    "import xgboost as xgb\n",
    "import unicodedata\n",
    "import jieba\n",
    "import jieba.posseg as pseg\n",
    "jieba.enable_paddle()\n",
    "%matplotlib inline"
   ]
  },
  {
   "cell_type": "code",
   "execution_count": 2,
   "metadata": {},
   "outputs": [],
   "source": [
    "df = pd.read_csv(\"train_classifier_2_balance.txt\", sep='\\t', header=None, names=[\"label\", \"feature\", \"text\"])"
   ]
  },
  {
   "cell_type": "code",
   "execution_count": 3,
   "metadata": {},
   "outputs": [],
   "source": [
    "df = pd.concat([df, df['feature'].str.split(' ', expand=True)], axis=1)\n",
    "del df['feature']"
   ]
  },
  {
   "cell_type": "code",
   "execution_count": 4,
   "metadata": {},
   "outputs": [
    {
     "data": {
      "text/plain": [
       "<matplotlib.axes._subplots.AxesSubplot at 0x1573e85f8>"
      ]
     },
     "execution_count": 4,
     "metadata": {},
     "output_type": "execute_result"
    },
    {
     "data": {
      "image/png": "[encoded data removed]",
      "text/plain": [
       "<Figure size 432x288 with 1 Axes>"
      ]
     },
     "metadata": {
      "needs_background": "light"
     },
     "output_type": "display_data"
    }
   ],
   "source": [
    "df.groupby(\"label\")['text'].count().plot.bar()"
   ]
  },
  {
   "cell_type": "code",
   "execution_count": 5,
   "metadata": {},
   "outputs": [
    {
     "data": {
      "text/plain": [
       "0     14852\n",
       "10    14598\n",
       "18    13787\n",
       "13    12976\n",
       "11    12976\n",
       "2     12165\n",
       "4     12165\n",
       "6     11354\n",
       "7     11354\n",
       "1     10543\n",
       "5     10543\n",
       "8     10543\n",
       "17     9732\n",
       "14     8921\n",
       "3      7299\n",
       "15     6600\n",
       "19     5677\n",
       "16     4167\n",
       "Name: label, dtype: int64"
      ]
     },
     "execution_count": 5,
     "metadata": {},
     "output_type": "execute_result"
    }
   ],
   "source": [
    "df['label'].value_counts()"
   ]
  },
  {
   "cell_type": "code",
   "execution_count": 6,
   "metadata": {},
   "outputs": [],
   "source": [
    "def words(s):\n",
    "    s = str(s)\n",
    "    s = unicodedata.normalize('NFKC', s).lower()\n",
    "    return [word for word, pos in pseg.cut(s, use_paddle=True) if pos != 'w']\n",
    "\n",
    "def clean(s):\n",
    "    return ' '.join(words(s))"
   ]
  },
  {
   "cell_type": "code",
   "execution_count": 7,
   "metadata": {},
   "outputs": [],
   "source": [
    "df['text_seg'] = df['text'].apply(clean)"
   ]
  },
  {
   "cell_type": "code",
   "execution_count": 8,
   "metadata": {},
   "outputs": [],
   "source": [
    "count_vect = CountVectorizer(analyzer='word', token_pattern=r'\\w{1,}')\n",
    "count_vect.fit(df['text_seg'].unique())\n",
    "text_trans = count_vect.transform(df['text_seg'].values)"
   ]
  },
  {
   "cell_type": "code",
   "execution_count": 9,
   "metadata": {},
   "outputs": [],
   "source": [
    "labels = df['label'].values\n",
    "X = scipy.sparse.hstack((df[list(range(81))].values.astype(float), text_trans))\n",
    "y = labels"
   ]
  },
  {
   "cell_type": "code",
   "execution_count": 12,
   "metadata": {},
   "outputs": [
    {
     "data": {
      "text/plain": [
       "18"
      ]
     },
     "execution_count": 12,
     "metadata": {},
     "output_type": "execute_result"
    }
   ],
   "source": [
    "len(set(y))"
   ]
  },
  {
   "cell_type": "code",
   "execution_count": 16,
   "metadata": {},
   "outputs": [
    {
     "name": "stdout",
     "output_type": "stream",
     "text": [
      "[0]\ttrain-merror:0.00804\n",
      "Will train until train-merror hasn't improved in 10 rounds.\n",
      "[1]\ttrain-merror:0.00857\n",
      "[2]\ttrain-merror:0.00890\n",
      "[3]\ttrain-merror:0.00928\n",
      "[4]\ttrain-merror:0.01021\n",
      "[5]\ttrain-merror:0.01040\n",
      "[6]\ttrain-merror:0.01027\n",
      "[7]\ttrain-merror:0.00981\n",
      "[8]\ttrain-merror:0.00966\n",
      "[9]\ttrain-merror:0.00998\n",
      "[10]\ttrain-merror:0.01023\n",
      "Stopping. Best iteration:\n",
      "[0]\ttrain-merror:0.00804\n",
      "\n"
     ]
    }
   ],
   "source": [
    "X_train,X_valid,y_train,y_valid = train_test_split(X, y, test_size=0.33, random_state=42)\n",
    "params = {\n",
    "    'booster': 'gbtree',\n",
    "    'objective': 'multi:softmax',  # 多分类的问题\n",
    "    'num_class': 20,               # 类别数，与 multisoftmax 并用\n",
    "    'gamma': 0.1,                  # 用于控制是否后剪枝的参数,越大越保守，一般0.1、0.2这样子。\n",
    "    'max_depth': 10,               # 构建树的深度，越大越容易过拟合\n",
    "    'lambda': 2,                   # 控制模型复杂度的权重值的L2正则化项参数，参数越大，模型越不容易过拟合。\n",
    "    'subsample': 0.7,              # 随机采样训练样本\n",
    "    'colsample_bytree': 0.7,       # 生成树时进行的列采样\n",
    "    'min_child_weight': 3,\n",
    "    'silent': 1,                   # 设置成1则没有运行信息输出，最好是设置为0.\n",
    "    'eta': 0.007,                  # 如同学习率\n",
    "    'seed': 1000,\n",
    "}\n",
    "dtrain = xgb.DMatrix(X_train, label=y_train)\n",
    "watchlist = [(dtrain,'train')]\n",
    "num_round = 100\n",
    "early_stopping_rounds = 10\n",
    "\n",
    "bst = xgb.train(params, dtrain, num_round, watchlist, early_stopping_rounds=early_stopping_rounds)"
   ]
  },
  {
   "cell_type": "code",
   "execution_count": 17,
   "metadata": {},
   "outputs": [],
   "source": [
    "# make predictions\n",
    "expected = y_valid\n",
    "dtest = xgb.DMatrix(X_valid)\n",
    "predicted = bst.predict(dtest)"
   ]
  },
  {
   "cell_type": "code",
   "execution_count": 18,
   "metadata": {},
   "outputs": [
    {
     "name": "stdout",
     "output_type": "stream",
     "text": [
      "              precision    recall  f1-score   support\n",
      "\n",
      "           0       1.00      0.87      0.93      4921\n",
      "           1       0.99      1.00      0.99      3500\n",
      "           2       0.99      1.00      0.99      3990\n",
      "           3       0.98      1.00      0.99      2433\n",
      "           4       0.99      1.00      1.00      4001\n",
      "           5       0.99      1.00      1.00      3432\n",
      "           6       0.99      1.00      0.99      3776\n",
      "           7       0.99      1.00      1.00      3782\n",
      "           8       0.99      1.00      0.99      3530\n",
      "          10       0.99      1.00      1.00      4800\n",
      "          11       0.99      1.00      1.00      4286\n",
      "          13       0.99      1.00      1.00      4286\n",
      "          14       0.99      1.00      1.00      2841\n",
      "          15       0.95      1.00      0.98      2133\n",
      "          16       1.00      1.00      1.00      1416\n",
      "          17       0.99      1.00      0.99      3200\n",
      "          18       0.99      1.00      1.00      4590\n",
      "          19       0.97      1.00      0.98      1867\n",
      "\n",
      "    accuracy                           0.99     62784\n",
      "   macro avg       0.99      0.99      0.99     62784\n",
      "weighted avg       0.99      0.99      0.99     62784\n",
      "\n"
     ]
    }
   ],
   "source": [
    "print(metrics.classification_report(expected, predicted))\n",
    "#print(metrics.confusion_matrix(expected, predicted))"
   ]
  },
  {
   "cell_type": "code",
   "execution_count": null,
   "metadata": {},
   "outputs": [],
   "source": []
  }
 ],
 "metadata": {
  "kernelspec": {
   "display_name": "Python 3",
   "language": "python",
   "name": "python3"
  },
  "language_info": {
   "codemirror_mode": {
    "name": "ipython",
    "version": 3
   },
   "file_extension": ".py",
   "mimetype": "text/x-python",
   "name": "python",
   "nbconvert_exporter": "python",
   "pygments_lexer": "ipython3",
   "version": "3.7.1"
  }
 },
 "nbformat": 4,
 "nbformat_minor": 2
}
